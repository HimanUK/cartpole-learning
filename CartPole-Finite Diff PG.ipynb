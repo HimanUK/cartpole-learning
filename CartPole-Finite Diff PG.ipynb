{
 "cells": [
  {
   "cell_type": "code",
   "execution_count": 3,
   "metadata": {},
   "outputs": [],
   "source": [
    "import numpy as np\n",
    "import gym"
   ]
  },
  {
   "cell_type": "code",
   "execution_count": 4,
   "metadata": {},
   "outputs": [],
   "source": [
    "env = gym.make('CartPole-v0')"
   ]
  },
  {
   "cell_type": "code",
   "execution_count": 5,
   "metadata": {},
   "outputs": [],
   "source": [
    "param = np.random.rand(4)     "
   ]
  },
  {
   "cell_type": "code",
   "execution_count": 6,
   "metadata": {},
   "outputs": [],
   "source": [
    "def policy(p,o):\n",
    "    ans = np.dot(o,p)\n",
    "    if ans>=0:\n",
    "        return(1)\n",
    "    else:\n",
    "        return(0)"
   ]
  },
  {
   "cell_type": "code",
   "execution_count": 7,
   "metadata": {},
   "outputs": [],
   "source": [
    "# Delta Theta\n",
    "high = env.observation_space.high\n",
    "low = env.observation_space.low\n",
    "\n",
    "Dt = np.array([(high[0]-low[0])/100,0.01,(high[2]-low[2])/100,0.01])"
   ]
  },
  {
   "cell_type": "code",
   "execution_count": 31,
   "metadata": {},
   "outputs": [
    {
     "name": "stdout",
     "output_type": "stream",
     "text": [
      "108.37\n"
     ]
    }
   ],
   "source": [
    "episodes = 100\n",
    "Jtest = 0\n",
    "for ep in range(episodes):\n",
    "    obs = env.reset()\n",
    "    for t in range(200):\n",
    "        #env.render()\n",
    "        action = policy(param,obs)\n",
    "        obs, r, done, info = env.step(action)\n",
    "        Jtest += r\n",
    "        if done:\n",
    "            break\n",
    "print(Jtest/100)"
   ]
  },
  {
   "cell_type": "code",
   "execution_count": 32,
   "metadata": {},
   "outputs": [],
   "source": [
    "# We will be using finite differences method for Performance evaluation\n",
    "# This algorithm uses forward difference estimators\n",
    "\n",
    "for z in range(200):\n",
    "    # J reference\n",
    "    J = 0\n",
    "    episodes = 1\n",
    "    for ep in range(episodes):\n",
    "        obs = env.reset()\n",
    "\n",
    "        for t in range(200):\n",
    "            #env.render()\n",
    "            action = policy(param,obs)\n",
    "            obs, r, done, info = env.step(action)\n",
    "            J += r\n",
    "\n",
    "            if done:\n",
    "                break\n",
    "\n",
    "    # J delta\n",
    "    Jd = np.array([0 for x in range(4)])\n",
    "    for i in range(4):\n",
    "        param_new = np.copy(param)\n",
    "        param_new[i] += Dt[i]\n",
    "\n",
    "        episodes = 1\n",
    "        for ep in range(episodes):\n",
    "            obs = env.reset()\n",
    "\n",
    "            for t in range(200):\n",
    "                #env.render()\n",
    "                action = policy(param_new,obs)\n",
    "                obs, r, done, info = env.step(action)\n",
    "                Jd[i] += r\n",
    "\n",
    "                if done:\n",
    "                    break\n",
    "\n",
    "    # This algorithm uses linear parameterization\n",
    "    lr = 0.01\n",
    "    for i in range(4):\n",
    "        param[i] = param[i] + lr*(Jd[i]-J)\n"
   ]
  },
  {
   "cell_type": "code",
   "execution_count": 33,
   "metadata": {},
   "outputs": [
    {
     "name": "stdout",
     "output_type": "stream",
     "text": [
      "2.0\n"
     ]
    }
   ],
   "source": [
    "episodes = 1\n",
    "Jtest = 0\n",
    "for ep in range(episodes):\n",
    "    obs = env.reset()\n",
    "    for t in range(200):\n",
    "        #env.render()\n",
    "        action = policy(param,obs)\n",
    "        obs, r, done, info = env.step(action)\n",
    "        Jtest += r\n",
    "        if done:\n",
    "            break\n",
    "print(Jtest/100)"
   ]
  }
 ],
 "metadata": {
  "kernelspec": {
   "display_name": "Python 3",
   "language": "python",
   "name": "python3"
  },
  "language_info": {
   "codemirror_mode": {
    "name": "ipython",
    "version": 3
   },
   "file_extension": ".py",
   "mimetype": "text/x-python",
   "name": "python",
   "nbconvert_exporter": "python",
   "pygments_lexer": "ipython3",
   "version": "3.6.5"
  }
 },
 "nbformat": 4,
 "nbformat_minor": 2
}
